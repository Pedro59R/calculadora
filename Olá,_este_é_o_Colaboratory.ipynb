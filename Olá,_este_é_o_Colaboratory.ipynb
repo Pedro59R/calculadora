{
  "cells": [
    {
      "cell_type": "markdown",
      "metadata": {
        "id": "view-in-github",
        "colab_type": "text"
      },
      "source": [
        "<a href=\"https://colab.research.google.com/github/Pedro59R/calculadora/blob/main/Ol%C3%A1%2C_este_%C3%A9_o_Colaboratory.ipynb\" target=\"_parent\"><img src=\"https://colab.research.google.com/assets/colab-badge.svg\" alt=\"Open In Colab\"/></a>"
      ]
    },
    {
      "cell_type": "code",
      "source": [
        "while True:\n",
        "    numero1 = float(input(\"Digite o primeiro numero: \"))\n",
        "    numero2 = float(input(\"Digite o segundo numero: \"))\n",
        "    operacao = input(\"Digite a operacao(+, -, *, /): \")\n",
        "    if operacao == \"+\":\n",
        "        print(\"O resultado e\", numero1 + numero2)\n",
        "    elif operacao == \"-\":\n",
        "        print(\"O resultado e\", numero1 - numero2)\n",
        "    elif operacao == \"*\":\n",
        "        print(\"O resultado e\", numero1 * numero2)\n",
        "    elif operacao == \"/\":\n",
        "        print(\"O resultado e\", numero1 / numero2)\n",
        "    else:\n",
        "     print(\"operaçao invalida\")\n",
        "\n",
        "    outra_operacao = input(\"Deseja realizar outra operação? (s/n): \")\n",
        "    if outra_operacao.lower() != 's':\n",
        "        break\n",
        "\n"
      ],
      "metadata": {
        "colab": {
          "base_uri": "https://localhost:8080/"
        },
        "id": "i4xXWx-ZwvQ4",
        "outputId": "65aeb685-0c92-4564-b0c9-463f49b48477"
      },
      "execution_count": 10,
      "outputs": [
        {
          "name": "stdout",
          "output_type": "stream",
          "text": [
            "Digite o primeiro numero: 20\n",
            "Digite o segundo numero: 20\n",
            "Digite a operacao(+, -, *, /): +\n",
            "O resultado e 40.0\n",
            "Deseja realizar outra operação? (s/n): n\n"
          ]
        }
      ]
    }
  ],
  "metadata": {
    "colab": {
      "name": "Olá, este é o Colaboratory",
      "toc_visible": true,
      "provenance": [],
      "history_visible": true,
      "include_colab_link": true
    },
    "kernelspec": {
      "display_name": "Python 3",
      "name": "python3"
    }
  },
  "nbformat": 4,
  "nbformat_minor": 0
}